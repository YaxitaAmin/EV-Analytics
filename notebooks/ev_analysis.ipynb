{
 "cells": [
  {
   "cell_type": "code",
   "execution_count": null,
   "metadata": {},
   "outputs": [
    {
     "name": "stderr",
     "output_type": "stream",
     "text": [
      "C:\\Users\\YAXITA\\AppData\\Local\\Temp\\ipykernel_26852\\2898656518.py:7: DtypeWarning: Columns (4,14,15,16,17) have mixed types. Specify dtype option on import or set low_memory=False.\n",
      "  df = pd.read_csv('../data/processed/ev_analysis_final.csv')\n"
     ]
    },
    {
     "ename": "AttributeError",
     "evalue": "module 'folium' has no attribute 'MarkerCluster'",
     "output_type": "error",
     "traceback": [
      "\u001b[1;31m---------------------------------------------------------------------------\u001b[0m",
      "\u001b[1;31mAttributeError\u001b[0m                            Traceback (most recent call last)",
      "Cell \u001b[1;32mIn[1], line 33\u001b[0m\n\u001b[0;32m     18\u001b[0m         folium\u001b[38;5;241m.\u001b[39mCircleMarker(\n\u001b[0;32m     19\u001b[0m             location\u001b[38;5;241m=\u001b[39m[row[\u001b[38;5;124m'\u001b[39m\u001b[38;5;124mlatitude\u001b[39m\u001b[38;5;124m'\u001b[39m], row[\u001b[38;5;124m'\u001b[39m\u001b[38;5;124mlongitude\u001b[39m\u001b[38;5;124m'\u001b[39m]],\n\u001b[0;32m     20\u001b[0m             radius\u001b[38;5;241m=\u001b[39m\u001b[38;5;241m5\u001b[39m,\n\u001b[1;32m   (...)\u001b[0m\n\u001b[0;32m     28\u001b[0m             fill\u001b[38;5;241m=\u001b[39m\u001b[38;5;28;01mTrue\u001b[39;00m\n\u001b[0;32m     29\u001b[0m         )\u001b[38;5;241m.\u001b[39madd_to(marker_cluster)\n\u001b[0;32m     31\u001b[0m     \u001b[38;5;28;01mreturn\u001b[39;00m m\n\u001b[1;32m---> 33\u001b[0m station_map \u001b[38;5;241m=\u001b[39m \u001b[43mcreate_station_map\u001b[49m\u001b[43m(\u001b[49m\u001b[43mdf\u001b[49m\u001b[43m)\u001b[49m\n\u001b[0;32m     34\u001b[0m station_map\u001b[38;5;241m.\u001b[39msave(\u001b[38;5;124m'\u001b[39m\u001b[38;5;124m../output/station_distribution.html\u001b[39m\u001b[38;5;124m'\u001b[39m)\n\u001b[0;32m     36\u001b[0m \u001b[38;5;66;03m# 2. State Analysis\u001b[39;00m\n",
      "Cell \u001b[1;32mIn[1], line 15\u001b[0m, in \u001b[0;36mcreate_station_map\u001b[1;34m(df)\u001b[0m\n\u001b[0;32m     11\u001b[0m m \u001b[38;5;241m=\u001b[39m folium\u001b[38;5;241m.\u001b[39mMap(location\u001b[38;5;241m=\u001b[39m[df[\u001b[38;5;124m'\u001b[39m\u001b[38;5;124mlatitude\u001b[39m\u001b[38;5;124m'\u001b[39m]\u001b[38;5;241m.\u001b[39mmean(), df[\u001b[38;5;124m'\u001b[39m\u001b[38;5;124mlongitude\u001b[39m\u001b[38;5;124m'\u001b[39m]\u001b[38;5;241m.\u001b[39mmean()], \n\u001b[0;32m     12\u001b[0m                zoom_start\u001b[38;5;241m=\u001b[39m\u001b[38;5;241m4\u001b[39m)\n\u001b[0;32m     14\u001b[0m \u001b[38;5;66;03m# Create clusters of stations\u001b[39;00m\n\u001b[1;32m---> 15\u001b[0m marker_cluster \u001b[38;5;241m=\u001b[39m \u001b[43mfolium\u001b[49m\u001b[38;5;241;43m.\u001b[39;49m\u001b[43mMarkerCluster\u001b[49m()\u001b[38;5;241m.\u001b[39madd_to(m)\n\u001b[0;32m     17\u001b[0m \u001b[38;5;28;01mfor\u001b[39;00m idx, row \u001b[38;5;129;01min\u001b[39;00m df\u001b[38;5;241m.\u001b[39miterrows():\n\u001b[0;32m     18\u001b[0m     folium\u001b[38;5;241m.\u001b[39mCircleMarker(\n\u001b[0;32m     19\u001b[0m         location\u001b[38;5;241m=\u001b[39m[row[\u001b[38;5;124m'\u001b[39m\u001b[38;5;124mlatitude\u001b[39m\u001b[38;5;124m'\u001b[39m], row[\u001b[38;5;124m'\u001b[39m\u001b[38;5;124mlongitude\u001b[39m\u001b[38;5;124m'\u001b[39m]],\n\u001b[0;32m     20\u001b[0m         radius\u001b[38;5;241m=\u001b[39m\u001b[38;5;241m5\u001b[39m,\n\u001b[1;32m   (...)\u001b[0m\n\u001b[0;32m     28\u001b[0m         fill\u001b[38;5;241m=\u001b[39m\u001b[38;5;28;01mTrue\u001b[39;00m\n\u001b[0;32m     29\u001b[0m     )\u001b[38;5;241m.\u001b[39madd_to(marker_cluster)\n",
      "\u001b[1;31mAttributeError\u001b[0m: module 'folium' has no attribute 'MarkerCluster'"
     ]
    }
   ],
   "source": [
    "import pandas as pd\n",
    "import matplotlib.pyplot as plt\n",
    "import seaborn as sns\n",
    "import folium\n",
    "\n",
    "# Load processed data\n",
    "df = pd.read_csv('../data/processed/ev_analysis_final.csv')\n",
    "\n",
    "# 1. Geographic Distribution Analysis\n",
    "def create_station_map(df):\n",
    "    m = folium.Map(location=[df['latitude'].mean(), df['longitude'].mean()], \n",
    "                   zoom_start=4)\n",
    "    \n",
    "    # Create clusters of stations\n",
    "    marker_cluster = folium.MarkerCluster().add_to(m)\n",
    "    \n",
    "    for idx, row in df.iterrows():\n",
    "        folium.CircleMarker(\n",
    "            location=[row['latitude'], row['longitude']],\n",
    "            radius=5,\n",
    "            popup=f\"\"\"\n",
    "                <b>{row['station_name']}</b><br>\n",
    "                DC Fast Chargers: {row['ev_dc_fast_count']}<br>\n",
    "                Level 2 Chargers: {row['ev_level2_evse_num']}<br>\n",
    "                Network: {row['ev_network']}\n",
    "            \"\"\",\n",
    "            color='red' if row['ev_dc_fast_count'] > 0 else 'blue',\n",
    "            fill=True\n",
    "        ).add_to(marker_cluster)\n",
    "    \n",
    "    return m\n",
    "\n",
    "station_map = create_station_map(df)\n",
    "station_map.save('../output/station_distribution.html')\n",
    "\n",
    "# 2. State Analysis\n",
    "plt.figure(figsize=(15, 6))\n",
    "top_states = df.groupby('state')['station_name'].count().sort_values(ascending=False).head(15)\n",
    "sns.barplot(x=top_states.index, y=top_states.values)\n",
    "plt.xticks(rotation=45)\n",
    "plt.title('Top 15 States by Number of Charging Stations')\n",
    "plt.tight_layout()\n",
    "plt.savefig('../output/state_distribution.png')\n",
    "\n",
    "# 3. Network Analysis\n",
    "plt.figure(figsize=(12, 6))\n",
    "network_counts = df['ev_network'].value_counts().head(10)\n",
    "sns.barplot(x=network_counts.values, y=network_counts.index)\n",
    "plt.title('Top 10 EV Charging Networks')\n",
    "plt.tight_layout()\n",
    "plt.savefig('../output/network_distribution.png')\n",
    "\n",
    "# 4. Charger Type Analysis\n",
    "plt.figure(figsize=(10, 6))\n",
    "charger_data = pd.DataFrame({\n",
    "    'DC Fast': df['ev_dc_fast_count'].sum(),\n",
    "    'Level 2': df['ev_level2_evse_num'].sum()\n",
    "}, index=['Charger Count']).T\n",
    "charger_data.plot(kind='bar')\n",
    "plt.title('Distribution of Charger Types')\n",
    "plt.tight_layout()\n",
    "plt.savefig('../output/charger_types.png')\n",
    "\n",
    "# 5. Revenue Analysis\n",
    "plt.figure(figsize=(12, 6))\n",
    "sns.scatterplot(data=df, \n",
    "                x='total_chargers', \n",
    "                y='daily_revenue_potential',\n",
    "                hue='ev_network',\n",
    "                size='utilization_rate',\n",
    "                sizes=(20, 200))\n",
    "plt.title('Revenue Potential vs Station Size')\n",
    "plt.xticks(rotation=45)\n",
    "plt.tight_layout()\n",
    "plt.savefig('../output/revenue_analysis.png')"
   ]
  }
 ],
 "metadata": {
  "kernelspec": {
   "display_name": "venv",
   "language": "python",
   "name": "python3"
  },
  "language_info": {
   "codemirror_mode": {
    "name": "ipython",
    "version": 3
   },
   "file_extension": ".py",
   "mimetype": "text/x-python",
   "name": "python",
   "nbconvert_exporter": "python",
   "pygments_lexer": "ipython3",
   "version": "3.10.0"
  }
 },
 "nbformat": 4,
 "nbformat_minor": 2
}
